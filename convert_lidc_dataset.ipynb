{
 "cells": [
  {
   "cell_type": "code",
   "execution_count": null,
   "metadata": {},
   "outputs": [],
   "source": [
    "import pylidc as pl\n",
    "import matplotlib.pyplot as plt\n",
    "import numpy as np\n",
    "import math\n",
    "\n",
    "import h5py\n",
    "import SimpleITK as sitk  \n",
    "import nibabel as nib\n",
    "\n",
    "from utils import convert_scan as cs"
   ]
  },
  {
   "cell_type": "code",
   "execution_count": null,
   "metadata": {},
   "outputs": [],
   "source": [
    "output_folder = r\"D:\\Documents\\EMTIC\\LIDC\\Converted_data\\processed_05mm\""
   ]
  },
  {
   "cell_type": "code",
   "execution_count": null,
   "metadata": {},
   "outputs": [],
   "source": [
    "\n",
    "scans = pl.query(pl.Scan)"
   ]
  },
  {
   "cell_type": "code",
   "execution_count": null,
   "metadata": {},
   "outputs": [],
   "source": [
    "\n",
    "for scan in scans:\n",
    "\n",
    "    nods = scan.cluster_annotations()\n",
    "    print(scan.id)\n",
    "    print(scan.pixel_spacing)\n",
    "\n",
    "    ann = pl.query(cs.Custom_annotation).filter(cs.Custom_annotation.scan_id == scan.id)\n",
    "    cs.convert_scan_crop(nods, ann, scan.id, output_folder, visualize=False)"
   ]
  },
  {
   "cell_type": "code",
   "execution_count": null,
   "metadata": {},
   "outputs": [],
   "source": [
    "cs.convert_h5_to_dicom(r\"D:\\Documents\\EMTIC\\LIDC\\Converted_data\\processed_05mm\\case_1_nodule_1.h5\")"
   ]
  },
  {
   "cell_type": "code",
   "execution_count": null,
   "metadata": {},
   "outputs": [],
   "source": []
  }
 ],
 "metadata": {
  "kernelspec": {
   "display_name": "Python 3.8.0 ('analysis38_env')",
   "language": "python",
   "name": "python3"
  },
  "language_info": {
   "codemirror_mode": {
    "name": "ipython",
    "version": 3
   },
   "file_extension": ".py",
   "mimetype": "text/x-python",
   "name": "python",
   "nbconvert_exporter": "python",
   "pygments_lexer": "ipython3",
   "version": "3.8.0"
  },
  "orig_nbformat": 4,
  "vscode": {
   "interpreter": {
    "hash": "1c036c46a179eda6c3a780b68e0f67e8d768baa063efc64682463263c37f6e7a"
   }
  }
 },
 "nbformat": 4,
 "nbformat_minor": 2
}
