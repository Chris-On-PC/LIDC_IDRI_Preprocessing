{
 "cells": [
  {
   "cell_type": "code",
   "execution_count": 1,
   "metadata": {},
   "outputs": [],
   "source": [
    "from utils import convert_scan as cs\n",
    "import pylidc as pl"
   ]
  },
  {
   "cell_type": "code",
   "execution_count": 2,
   "metadata": {},
   "outputs": [],
   "source": [
    "scans = pl.query(pl.Scan)"
   ]
  },
  {
   "cell_type": "code",
   "execution_count": 3,
   "metadata": {},
   "outputs": [],
   "source": [
    "output_folder = r\"D:\\Documents\\EMTIC\\LIDC\\Converted_data\\nifti_with_meta\""
   ]
  },
  {
   "cell_type": "code",
   "execution_count": 4,
   "metadata": {},
   "outputs": [
    {
     "name": "stdout",
     "output_type": "stream",
     "text": [
      "1\n",
      "Loading dicom files ... This may take a moment.\n",
      "D:\\Documents\\EMTIC\\LIDC\\Converted_data\\nifti_with_meta\\labels\\lung_1.nii\n",
      "2\n",
      "Loading dicom files ... This may take a moment.\n",
      "D:\\Documents\\EMTIC\\LIDC\\Converted_data\\nifti_with_meta\\labels\\lung_2.nii\n",
      "3\n",
      "Loading dicom files ... This may take a moment.\n",
      "D:\\Documents\\EMTIC\\LIDC\\Converted_data\\nifti_with_meta\\labels\\lung_3.nii\n",
      "4\n",
      "Loading dicom files ... This may take a moment.\n",
      "D:\\Documents\\EMTIC\\LIDC\\Converted_data\\nifti_with_meta\\labels\\lung_4.nii\n",
      "5\n",
      "Loading dicom files ... This may take a moment.\n",
      "D:\\Documents\\EMTIC\\LIDC\\Converted_data\\nifti_with_meta\\labels\\lung_5.nii\n",
      "6\n",
      "Loading dicom files ... This may take a moment.\n",
      "D:\\Documents\\EMTIC\\LIDC\\Converted_data\\nifti_with_meta\\labels\\lung_6.nii\n",
      "7\n",
      "Loading dicom files ... This may take a moment.\n",
      "D:\\Documents\\EMTIC\\LIDC\\Converted_data\\nifti_with_meta\\labels\\lung_7.nii\n",
      "8\n",
      "Loading dicom files ... This may take a moment.\n",
      "D:\\Documents\\EMTIC\\LIDC\\Converted_data\\nifti_with_meta\\labels\\lung_8.nii\n",
      "9\n",
      "Loading dicom files ... This may take a moment.\n",
      "D:\\Documents\\EMTIC\\LIDC\\Converted_data\\nifti_with_meta\\labels\\lung_9.nii\n",
      "10\n",
      "Loading dicom files ... This may take a moment.\n",
      "D:\\Documents\\EMTIC\\LIDC\\Converted_data\\nifti_with_meta\\labels\\lung_10.nii\n",
      "11\n",
      "Loading dicom files ... This may take a moment.\n",
      "D:\\Documents\\EMTIC\\LIDC\\Converted_data\\nifti_with_meta\\labels\\lung_11.nii\n",
      "12\n",
      "Loading dicom files ... This may take a moment.\n",
      "D:\\Documents\\EMTIC\\LIDC\\Converted_data\\nifti_with_meta\\labels\\lung_12.nii\n",
      "13\n",
      "Loading dicom files ... This may take a moment.\n",
      "D:\\Documents\\EMTIC\\LIDC\\Converted_data\\nifti_with_meta\\labels\\lung_13.nii\n",
      "14\n",
      "Loading dicom files ... This may take a moment.\n",
      "D:\\Documents\\EMTIC\\LIDC\\Converted_data\\nifti_with_meta\\labels\\lung_14.nii\n",
      "15\n",
      "Loading dicom files ... This may take a moment.\n",
      "D:\\Documents\\EMTIC\\LIDC\\Converted_data\\nifti_with_meta\\labels\\lung_15.nii\n",
      "16\n",
      "Loading dicom files ... This may take a moment.\n",
      "D:\\Documents\\EMTIC\\LIDC\\Converted_data\\nifti_with_meta\\labels\\lung_16.nii\n",
      "17\n",
      "Loading dicom files ... This may take a moment.\n"
     ]
    },
    {
     "ename": "KeyboardInterrupt",
     "evalue": "",
     "output_type": "error",
     "traceback": [
      "\u001b[1;31m---------------------------------------------------------------------------\u001b[0m",
      "\u001b[1;31mKeyboardInterrupt\u001b[0m                         Traceback (most recent call last)",
      "\u001b[1;32m<ipython-input-4-a823d997e0dd>\u001b[0m in \u001b[0;36m<module>\u001b[1;34m\u001b[0m\n\u001b[1;32m----> 1\u001b[1;33m \u001b[0mcs\u001b[0m\u001b[1;33m.\u001b[0m\u001b[0mconvert_scan_full_meta_data\u001b[0m\u001b[1;33m(\u001b[0m\u001b[0mscans\u001b[0m\u001b[1;33m,\u001b[0m \u001b[0moutput_folder\u001b[0m\u001b[1;33m)\u001b[0m\u001b[1;33m\u001b[0m\u001b[1;33m\u001b[0m\u001b[0m\n\u001b[0m",
      "\u001b[1;32mc:\\Users\\320088652\\OneDrive - Philips\\TUe\\eMTIC\\LIDC\\LIDC_IDRI_Preprocessing\\utils\\convert_scan.py\u001b[0m in \u001b[0;36mconvert_scan_full_meta_data\u001b[1;34m(scans, output_folder)\u001b[0m\n\u001b[0;32m     84\u001b[0m                 'malignancy'])\n\u001b[0;32m     85\u001b[0m \u001b[1;33m\u001b[0m\u001b[0m\n\u001b[1;32m---> 86\u001b[1;33m             \u001b[0mimage\u001b[0m \u001b[1;33m=\u001b[0m \u001b[0mscan\u001b[0m\u001b[1;33m.\u001b[0m\u001b[0mto_volume\u001b[0m\u001b[1;33m(\u001b[0m\u001b[1;33m)\u001b[0m\u001b[1;33m\u001b[0m\u001b[1;33m\u001b[0m\u001b[0m\n\u001b[0m\u001b[0;32m     87\u001b[0m             \u001b[0mlabel\u001b[0m \u001b[1;33m=\u001b[0m \u001b[0mnp\u001b[0m\u001b[1;33m.\u001b[0m\u001b[0mzeros_like\u001b[0m\u001b[1;33m(\u001b[0m\u001b[0mimage\u001b[0m\u001b[1;33m)\u001b[0m\u001b[1;33m\u001b[0m\u001b[1;33m\u001b[0m\u001b[0m\n\u001b[0;32m     88\u001b[0m             \u001b[0mtransformed_image\u001b[0m \u001b[1;33m=\u001b[0m \u001b[0mnp\u001b[0m\u001b[1;33m.\u001b[0m\u001b[0mswapaxes\u001b[0m\u001b[1;33m(\u001b[0m\u001b[0mnp\u001b[0m\u001b[1;33m.\u001b[0m\u001b[0mswapaxes\u001b[0m\u001b[1;33m(\u001b[0m\u001b[0mimage\u001b[0m\u001b[1;33m,\u001b[0m \u001b[1;36m0\u001b[0m\u001b[1;33m,\u001b[0m \u001b[1;36m2\u001b[0m\u001b[1;33m)\u001b[0m\u001b[1;33m,\u001b[0m \u001b[1;36m1\u001b[0m\u001b[1;33m,\u001b[0m\u001b[1;36m2\u001b[0m\u001b[1;33m)\u001b[0m\u001b[1;33m\u001b[0m\u001b[1;33m\u001b[0m\u001b[0m\n",
      "\u001b[1;32mC:\\python_envs\\analysis38_env\\lib\\site-packages\\pylidc\\Scan.py\u001b[0m in \u001b[0;36mto_volume\u001b[1;34m(self, verbose)\u001b[0m\n\u001b[0;32m    639\u001b[0m         \u001b[0mimages\u001b[0m \u001b[1;33m=\u001b[0m \u001b[0mself\u001b[0m\u001b[1;33m.\u001b[0m\u001b[0mload_all_dicom_images\u001b[0m\u001b[1;33m(\u001b[0m\u001b[0mverbose\u001b[0m\u001b[1;33m=\u001b[0m\u001b[0mverbose\u001b[0m\u001b[1;33m)\u001b[0m\u001b[1;33m\u001b[0m\u001b[1;33m\u001b[0m\u001b[0m\n\u001b[0;32m    640\u001b[0m \u001b[1;33m\u001b[0m\u001b[0m\n\u001b[1;32m--> 641\u001b[1;33m         volume = np.stack(\n\u001b[0m\u001b[0;32m    642\u001b[0m             [\n\u001b[0;32m    643\u001b[0m                 \u001b[0mx\u001b[0m\u001b[1;33m.\u001b[0m\u001b[0mpixel_array\u001b[0m \u001b[1;33m*\u001b[0m \u001b[0mx\u001b[0m\u001b[1;33m.\u001b[0m\u001b[0mRescaleSlope\u001b[0m \u001b[1;33m+\u001b[0m \u001b[0mx\u001b[0m\u001b[1;33m.\u001b[0m\u001b[0mRescaleIntercept\u001b[0m\u001b[1;33m\u001b[0m\u001b[1;33m\u001b[0m\u001b[0m\n",
      "\u001b[1;31mKeyboardInterrupt\u001b[0m: "
     ]
    }
   ],
   "source": [
    "cs.convert_scan_full_meta_data(scans, output_folder)"
   ]
  },
  {
   "cell_type": "code",
   "execution_count": null,
   "metadata": {},
   "outputs": [],
   "source": []
  }
 ],
 "metadata": {
  "interpreter": {
   "hash": "20d5225e702ddd9f9abe4766586d377a0cec67c776f933101b37d2eb4af4f511"
  },
  "kernelspec": {
   "display_name": "Python 3.8.3 64-bit ('main': venv)",
   "language": "python",
   "name": "python3"
  },
  "language_info": {
   "codemirror_mode": {
    "name": "ipython",
    "version": 3
   },
   "file_extension": ".py",
   "mimetype": "text/x-python",
   "name": "python",
   "nbconvert_exporter": "python",
   "pygments_lexer": "ipython3",
   "version": "3.8.0"
  },
  "orig_nbformat": 4
 },
 "nbformat": 4,
 "nbformat_minor": 2
}
